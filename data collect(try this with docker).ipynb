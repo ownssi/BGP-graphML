{
 "cells": [
  {
   "cell_type": "code",
   "execution_count": 1,
   "id": "942f34ec-5898-4c41-ac76-7460977ceb7f",
   "metadata": {},
   "outputs": [],
   "source": [
    "from BML.data import Dataset\n",
    "from BML import utils\n",
    "\n",
    "#################\n",
    "#https://github.com/KevinHoarau/BGNN/blob/main/collect_transform.py\n",
    "# Data collection\n",
    "\n",
    "folder = \"dataset/\"\n",
    "dataset = Dataset(folder)\n",
    "\n",
    "dataset.setParams({\n",
    "    \"PrimingPeriod\": 10*60, # 10 hours of priming data\n",
    "    \"IpVersion\": [4], # only IPv4 routes\n",
    "    \"Collectors\": [\"rrc04\",\"rrc05\"], # rrc06: at Otemachi, Japan \n",
    "    \"UseRibsPriming\": True\n",
    "})\n",
    "\n",
    "'''\n",
    "Dataset collected: \n",
    "{\n",
    "    \"name\": \"TTNet\",\n",
    "    \"start_time\": utils.getTimestamp(2004, 12, 24, 9, 20, 0) - 60*30, \n",
    "    \"end_time\": utils.getTimestamp(2004, 12, 24, 9, 20, 0) + 60*30, \n",
    "}\n",
    "{\n",
    "    \"name\": \"IndoSat\",\n",
    "    \"start_time\": utils.getTimestamp(2014, 4, 2, 18, 25, 0) - 60*30, \n",
    "    \"end_time\": utils.getTimestamp(2014, 4, 2, 18, 25, 0) + 60*30, \n",
    "}\n",
    "{\n",
    "    \"name\": \"AWS\",\n",
    "    \"start_time\": utils.getTimestamp(2016, 4, 22, 17, 10, 0) - 60*30, \n",
    "    \"end_time\": utils.getTimestamp(2016, 4, 22, 17, 10, 0) + 60*30\n",
    "}\n",
    "{\n",
    "    \"name\": \"TM\",\n",
    "    \"start_time\": utils.getTimestamp(2015, 6, 12, 8, 43, 0) - 60*30, \n",
    "    \"end_time\": utils.getTimestamp(2015, 6, 12, 8, 43, 0) + 60*30\n",
    "}\n",
    "{\n",
    "    \"name\": \"Youtube\", => https://www.ripe.net/about-us/news/youtube-hijacking-a-ripe-ncc-ris-case-study/\n",
    "    \"start_time\": utils.getTimestamp(2006, 2, 24, 18, 47, 0) - 60*30 - 24*3600, \n",
    "    \"end_time\": utils.getTimestamp(2006, 2, 24, 18, 47, 0) + 60*30 - 24*3600, \n",
    "}\n",
    "{\n",
    "    \"name\": \"ChinaTelecom\", => https://web.archive.org/web/20190415002259/https://bgpmon.net/chinese-isp-hijacked-10-of-the-internet/\n",
    "    \"start_time\": utils.getTimestamp(2010, 4, 8, 17, 54, 31) - 60*30 - 24*3600, \n",
    "    \"end_time\": utils.getTimestamp(2010, 4, 8, 17, 54, 31) + 60*30 - 24*3600, \n",
    "}\n",
    "{\n",
    "    \"name\": \"ConEdison\", => https://web.archive.org/web/20130308072127/http://www.renesys.com/blog/2006/01/coned-steals-the-net.shtml\n",
    "    \"start_time\": utils.getTimestamp(2006, 1, 22, 5, 5, 33) - 60*30 - 24*3600, \n",
    "    \"end_time\": utils.getTimestamp(2006, 1, 22, 5, 5, 33) + 60*30 - 24*3600, \n",
    "}\n",
    "'''\n",
    "\n",
    "\n",
    "'''\n",
    "Feature not available\n",
    "{\n",
    "    \"name\": \"ChinaTelecom\",\n",
    "    \"start_time\": utils.getTimestamp(2019, 6, 6, 9, 44, 0) - 60*30, \n",
    "    \"end_time\": utils.getTimestamp(2019, 6, 6, 9, 44, 0) + 60*30, \n",
    "}\n",
    "{\n",
    "    \"name\": \"Google\",\n",
    "    \"start_time\": utils.getTimestamp(2017, 8, 25, 3, 22, 0) - 60*30, \n",
    "    \"end_time\": utils.getTimestamp(2017, 8, 25, 3, 22, 0) + 60*30, \n",
    "}\n",
    "{\n",
    "    \"name\": \"India\",\n",
    "    \"start_time\": utils.getTimestamp(2021, 4, 16, 13, 48, 0) - 60*30 - 24*3600, \n",
    "    \"end_time\": utils.getTimestamp(2021, 4, 16, 13, 48, 0) + 60*30 - 24*3600, \n",
    "}\n",
    "'''\n",
    "\n",
    "dataset.setPeriodsOfInterests([\n",
    "    {\n",
    "        \"name\": \"ConEdison\",\n",
    "        \"label\": \"no_anomaly\",\n",
    "        \"start_time\": utils.getTimestamp(2006, 1, 22, 5, 5, 33) - 60*30 - 24*3600, \n",
    "        \"end_time\": utils.getTimestamp(2006, 1, 22, 5, 5, 33) + 60*30 - 24*3600, \n",
    "    },\n",
    "    {\n",
    "        \"name\": \"ConEdison\",\n",
    "        \"label\": \"anomaly\",\n",
    "        \"start_time\": utils.getTimestamp(2006, 1, 22, 5, 5, 33) - 60*30, \n",
    "        \"end_time\": utils.getTimestamp(2006, 1, 22, 5, 5, 33) + 60*30, \n",
    "    }\n",
    "\n",
    "])"
   ]
  },
  {
   "cell_type": "code",
   "execution_count": 2,
   "id": "117fca72-5747-40e5-ac5f-dd8c0ae4cef1",
   "metadata": {},
   "outputs": [
    {
     "name": "stdout",
     "output_type": "stream",
     "text": [
      "################\n",
      "# Run jobs list \n",
      "################\n",
      "Number of processes to execute: 2\n",
      "Number of processes in parallel: 4\n",
      "Processing queue: started\n",
      "To monitor the execution run: watch -n 1 cat dataset/collect_jobs/queue.log\n"
     ]
    },
    {
     "data": {
      "application/vnd.jupyter.widget-view+json": {
       "model_id": "7e2289823ada4a7e9aa01c1d206a352a",
       "version_major": 2,
       "version_minor": 0
      },
      "text/plain": [
       "  0%|          | 0/2 [00:00<?, ?it/s]"
      ]
     },
     "metadata": {},
     "output_type": "display_data"
    },
    {
     "name": "stdout",
     "output_type": "stream",
     "text": [
      "Processing queue: finish\n",
      "Computation time: 0h 5m 31s\n"
     ]
    }
   ],
   "source": [
    "# run the data collection\n",
    "utils.runJobs(dataset.getJobs(), folder+\"collect_jobs\", nbProcess=4) "
   ]
  },
  {
   "cell_type": "markdown",
   "id": "d8f702e4-2c83-4c1b-8641-3914c217e52e",
   "metadata": {},
   "source": [
    "## Features"
   ]
  },
  {
   "cell_type": "code",
   "execution_count": 4,
   "id": "cf7b3119-28f6-4d72-9ca7-757f191649be",
   "metadata": {},
   "outputs": [
    {
     "name": "stdout",
     "output_type": "stream",
     "text": [
      "################\n",
      "# Run jobs list \n",
      "################\n",
      "Number of processes to execute: 2\n",
      "Number of processes in parallel: 1\n",
      "Processing queue: started\n",
      "To monitor the execution run: watch -n 1 cat dataset/transform_jobs/queue.log\n"
     ]
    },
    {
     "data": {
      "application/vnd.jupyter.widget-view+json": {
       "model_id": "4674b1d67dc54a0fae91baf521339e42",
       "version_major": 2,
       "version_minor": 0
      },
      "text/plain": [
       "  0%|          | 0/2 [00:00<?, ?it/s]"
      ]
     },
     "metadata": {},
     "output_type": "display_data"
    },
    {
     "name": "stdout",
     "output_type": "stream",
     "text": [
      "Processing queue: finish\n",
      "Computation time: 0h 0m 5s\n"
     ]
    }
   ],
   "source": [
    "from BML.transform import DatasetTransformation\n",
    "from BML import utils\n",
    "folder = \"dataset/\"\n",
    "\n",
    "# features extraction every minute\n",
    "datTran = DatasetTransformation(folder, \"BML.transform\", \"Features\")\n",
    "\n",
    "datTran.setParams({\n",
    "        \"global\":{\n",
    "            \"Period\": 3,\n",
    "            \"SkipIfExist\": False\n",
    "        }\n",
    "    })\n",
    "\n",
    "# run the data transformation\n",
    "utils.runJobs(datTran.getJobs(), folder+\"transform_jobs\")"
   ]
  },
  {
   "cell_type": "markdown",
   "id": "2c18ecaa-1862-4914-9a97-f230f6102b6f",
   "metadata": {},
   "source": [
    "## Shutmil"
   ]
  },
  {
   "cell_type": "code",
   "execution_count": 5,
   "id": "8d3d7336-a2bd-454a-b7f8-a9587f5d6bbe",
   "metadata": {},
   "outputs": [
    {
     "data": {
      "text/plain": [
       "'/home/jovyan/ConEdison.zip'"
      ]
     },
     "execution_count": 5,
     "metadata": {},
     "output_type": "execute_result"
    }
   ],
   "source": [
    "import shutil\n",
    "shutil.make_archive('ConEdison', 'zip', 'dataset')"
   ]
  },
  {
   "cell_type": "code",
   "execution_count": 6,
   "id": "8dd4634a-0d4b-4aab-9ce6-b003b0db1cf8",
   "metadata": {},
   "outputs": [],
   "source": [
    "import shutil\n",
    "shutil.rmtree('dataset')"
   ]
  },
  {
   "cell_type": "code",
   "execution_count": 8,
   "id": "3e4102e1-e01b-4e8d-8bb9-1b6b62146317",
   "metadata": {},
   "outputs": [],
   "source": [
    "import shutil\n",
    "shutil.unpack_archive('IndoSat.zip','dataset')"
   ]
  },
  {
   "cell_type": "code",
   "execution_count": null,
   "id": "bdee0c3c-7b07-4361-a4b9-8f4ab4ae1bc5",
   "metadata": {},
   "outputs": [],
   "source": []
  }
 ],
 "metadata": {
  "kernelspec": {
   "display_name": "Python 3 (ipykernel)",
   "language": "python",
   "name": "python3"
  },
  "language_info": {
   "codemirror_mode": {
    "name": "ipython",
    "version": 3
   },
   "file_extension": ".py",
   "mimetype": "text/x-python",
   "name": "python",
   "nbconvert_exporter": "python",
   "pygments_lexer": "ipython3",
   "version": "3.9.7"
  }
 },
 "nbformat": 4,
 "nbformat_minor": 5
}
