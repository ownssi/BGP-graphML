{
 "cells": [
  {
   "cell_type": "code",
   "execution_count": 2,
   "id": "942f34ec-5898-4c41-ac76-7460977ceb7f",
   "metadata": {},
   "outputs": [],
   "source": [
    "from BML.data import Dataset\n",
    "from BML import utils\n",
    "\n",
    "#################\n",
    "#https://github.com/KevinHoarau/BGNN/blob/main/collect_transform.py\n",
    "# Data collection\n",
    "\n",
    "folder = \"dataset/\"\n",
    "dataset = Dataset(folder)\n",
    "\n",
    "dataset.setParams({\n",
    "    \"PrimingPeriod\": 10*60, # 10 hours of priming data\n",
    "    \"IpVersion\": [4], # only IPv4 routes\n",
    "    \"Collectors\": [\"rrc04\",\"rrc05\"], # rrc06: at Otemachi, Japan \n",
    "    \"UseRibsPriming\": True\n",
    "})\n",
    "\n",
    "'''\n",
    "Done: \n",
    "{\n",
    "    \"name\": \"TTNet\",\n",
    "    \"label\": \"anomaly\",\n",
    "    \"start_time\": utils.getTimestamp(2004, 12, 24, 9, 20, 0) - 60*30, \n",
    "    \"end_time\": utils.getTimestamp(2004, 12, 24, 9, 20, 0) + 60*30, \n",
    "}\n",
    "{\n",
    "    \"name\": \"IndoSat\",\n",
    "    \"label\": \"anomaly\",\n",
    "    \"start_time\": utils.getTimestamp(2014, 4, 2, 18, 25, 0) - 60*30, \n",
    "    \"end_time\": utils.getTimestamp(2014, 4, 2, 18, 25, 0) + 60*30, \n",
    "}\n",
    "{\n",
    "    \"name\": \"AWS\",\n",
    "    \"label\": \"anomaly\",\n",
    "    \"start_time\": utils.getTimestamp(2016, 4, 22, 17, 10, 0) - 60*30, \n",
    "    \"end_time\": utils.getTimestamp(2016, 4, 22, 17, 10, 0) + 60*30\n",
    "}\n",
    "'''\n",
    "\n",
    "'''\n",
    "Not yet\n",
    "{\n",
    "    \"name\": \"India\",\n",
    "    \"label\": \"anomaly\",\n",
    "    \"start_time\": utils.getTimestamp(2021, 4, 16, 13, 48, 0) - 60*30, \n",
    "    \"end_time\": utils.getTimestamp(2021, 4, 16, 13, 48, 0) + 60*30, \n",
    "}\n",
    "'''\n",
    "\n",
    "'''\n",
    "Feature not available\n",
    "=\n",
    "{\n",
    "    \"name\": \"ChinaTelecom\",\n",
    "    \"label\": \"anomaly\",\n",
    "    \"start_time\": utils.getTimestamp(2019, 6, 6, 9, 44, 0) - 60*30, \n",
    "    \"end_time\": utils.getTimestamp(2019, 6, 6, 9, 44, 0) + 60*30, \n",
    "},\n",
    "{\n",
    "    \"name\": \"ChinaTelecom\",\n",
    "    \"label\": \"no_anomaly\",\n",
    "    \"start_time\": utils.getTimestamp(2019, 6, 6, 9, 44, 0) - 60*30 - 24*3600, \n",
    "    \"end_time\": utils.getTimestamp(2019, 6, 6, 9, 44, 0) + 60*30 - 24*3600, \n",
    "}\n",
    "\n",
    "{\n",
    "    \"name\": \"Google\",\n",
    "    \"label\": \"anomaly\",\n",
    "    \"start_time\": utils.getTimestamp(2017, 8, 25, 3, 22, 0) - 60*30, \n",
    "    \"end_time\": utils.getTimestamp(2017, 8, 25, 3, 22, 0) + 60*30, \n",
    "},\n",
    "{\n",
    "    \"name\": \"Google\",\n",
    "    \"label\": \"no_anomaly\",\n",
    "    \"start_time\": utils.getTimestamp(2017, 8, 25, 3, 22, 0) - 60*30 - 24*3600, \n",
    "    \"end_time\": utils.getTimestamp(2017, 8, 25, 3, 22, 0) + 60*30 - 24*3600, \n",
    "}\n",
    "\n",
    "{\n",
    "    \"name\": \"India\",\n",
    "    \"label\": \"no_anomaly\",\n",
    "    \"start_time\": utils.getTimestamp(2021, 4, 16, 13, 48, 0) - 60*30 - 24*3600, \n",
    "    \"end_time\": utils.getTimestamp(2021, 4, 16, 13, 48, 0) + 60*30 - 24*3600, \n",
    "},\n",
    "{\n",
    "    \"name\": \"India\",\n",
    "    \"label\": \"anomaly\",\n",
    "    \"start_time\": utils.getTimestamp(2021, 4, 16, 13, 48, 0) - 60*30, \n",
    "    \"end_time\": utils.getTimestamp(2021, 4, 16, 13, 48, 0) + 60*30, \n",
    "}\n",
    "'''\n",
    "\n",
    "dataset.setPeriodsOfInterests([\n",
    "\n",
    "\n",
    "])"
   ]
  },
  {
   "cell_type": "code",
   "execution_count": 3,
   "id": "117fca72-5747-40e5-ac5f-dd8c0ae4cef1",
   "metadata": {},
   "outputs": [
    {
     "name": "stdout",
     "output_type": "stream",
     "text": [
      "################\n",
      "# Run jobs list \n",
      "################\n",
      "Number of processes to execute: 2\n",
      "Number of processes in parallel: 4\n",
      "Processing queue: started\n",
      "To monitor the execution run: watch -n 1 cat dataset/collect_jobs/queue.log\n"
     ]
    },
    {
     "data": {
      "application/vnd.jupyter.widget-view+json": {
       "model_id": "5c32fd37f13645d9baa2d68f3e625bd4",
       "version_major": 2,
       "version_minor": 0
      },
      "text/plain": [
       "  0%|          | 0/2 [00:00<?, ?it/s]"
      ]
     },
     "metadata": {},
     "output_type": "display_data"
    },
    {
     "name": "stderr",
     "output_type": "stream",
     "text": [
      "HTTP ERROR: Transferred a partial file (18)\n",
      "HTTP ERROR: Transferred a partial file (18)\n",
      "HTTP ERROR: Transferred a partial file (18)\n",
      "HTTP ERROR: Transferred a partial file (18)\n",
      "HTTP ERROR: Transferred a partial file (18)\n",
      "HTTP ERROR: Transferred a partial file (18)\n",
      "HTTP ERROR: Transferred a partial file (18)\n",
      "HTTP ERROR: Transferred a partial file (18)\n",
      "HTTP ERROR: Transferred a partial file (18)\n",
      "HTTP ERROR: Transferred a partial file (18)\n",
      "HTTP ERROR: Transferred a partial file (18)\n"
     ]
    },
    {
     "name": "stdout",
     "output_type": "stream",
     "text": [
      "Processing queue: finish\n",
      "Computation time: 0h 29m 54s\n"
     ]
    }
   ],
   "source": [
    "# run the data collection\n",
    "utils.runJobs(dataset.getJobs(), folder+\"collect_jobs\", nbProcess=4) "
   ]
  },
  {
   "cell_type": "markdown",
   "id": "d8f702e4-2c83-4c1b-8641-3914c217e52e",
   "metadata": {},
   "source": [
    "## Features"
   ]
  },
  {
   "cell_type": "code",
   "execution_count": 6,
   "id": "cf7b3119-28f6-4d72-9ca7-757f191649be",
   "metadata": {},
   "outputs": [
    {
     "name": "stdout",
     "output_type": "stream",
     "text": [
      "################\n",
      "# Run jobs list \n",
      "################\n",
      "Number of processes to execute: 1\n",
      "Number of processes in parallel: 1\n",
      "Processing queue: started\n",
      "To monitor the execution run: watch -n 1 cat dataset/transform_jobs/queue.log\n"
     ]
    },
    {
     "data": {
      "application/vnd.jupyter.widget-view+json": {
       "model_id": "a68e90bb0ea74768a9c62382a84a603b",
       "version_major": 2,
       "version_minor": 0
      },
      "text/plain": [
       "  0%|          | 0/1 [00:00<?, ?it/s]"
      ]
     },
     "metadata": {},
     "output_type": "display_data"
    },
    {
     "name": "stdout",
     "output_type": "stream",
     "text": [
      "Processing queue: finish\n",
      "Computation time: 0h 0m 12s\n"
     ]
    }
   ],
   "source": [
    "from BML.transform import DatasetTransformation\n",
    "from BML import utils\n",
    "folder = \"dataset/\"\n",
    "\n",
    "# features extraction every minute\n",
    "datTran = DatasetTransformation(folder, \"BML.transform\", \"Features\")\n",
    "\n",
    "datTran.setParams({\n",
    "        \"global\":{\n",
    "            \"Period\": 1,\n",
    "            \"SkipIfExist\": False\n",
    "        }\n",
    "    })\n",
    "\n",
    "# run the data transformation\n",
    "utils.runJobs(datTran.getJobs(), folder+\"transform_jobs\")"
   ]
  },
  {
   "cell_type": "markdown",
   "id": "2c18ecaa-1862-4914-9a97-f230f6102b6f",
   "metadata": {},
   "source": [
    "## Shutmil"
   ]
  },
  {
   "cell_type": "code",
   "execution_count": 5,
   "id": "8d3d7336-a2bd-454a-b7f8-a9587f5d6bbe",
   "metadata": {},
   "outputs": [
    {
     "data": {
      "text/plain": [
       "'/home/jovyan/Google.zip'"
      ]
     },
     "execution_count": 5,
     "metadata": {},
     "output_type": "execute_result"
    }
   ],
   "source": [
    "import shutil\n",
    "shutil.make_archive('Google', 'zip', 'dataset')"
   ]
  },
  {
   "cell_type": "code",
   "execution_count": 1,
   "id": "8dd4634a-0d4b-4aab-9ce6-b003b0db1cf8",
   "metadata": {},
   "outputs": [],
   "source": [
    "import shutil\n",
    "shutil.rmtree('dataset')"
   ]
  },
  {
   "cell_type": "code",
   "execution_count": 8,
   "id": "3e4102e1-e01b-4e8d-8bb9-1b6b62146317",
   "metadata": {},
   "outputs": [],
   "source": [
    "import shutil\n",
    "shutil.unpack_archive('IndoSat.zip','dataset')"
   ]
  },
  {
   "cell_type": "code",
   "execution_count": null,
   "id": "bdee0c3c-7b07-4361-a4b9-8f4ab4ae1bc5",
   "metadata": {},
   "outputs": [],
   "source": []
  }
 ],
 "metadata": {
  "kernelspec": {
   "display_name": "Python 3 (ipykernel)",
   "language": "python",
   "name": "python3"
  },
  "language_info": {
   "codemirror_mode": {
    "name": "ipython",
    "version": 3
   },
   "file_extension": ".py",
   "mimetype": "text/x-python",
   "name": "python",
   "nbconvert_exporter": "python",
   "pygments_lexer": "ipython3",
   "version": "3.9.7"
  }
 },
 "nbformat": 4,
 "nbformat_minor": 5
}
