{
 "cells": [
  {
   "cell_type": "code",
   "execution_count": 8,
   "id": "6d0ce468-5630-4bd3-83a0-1325911b58fe",
   "metadata": {},
   "outputs": [
    {
     "name": "stdout",
     "output_type": "stream",
     "text": [
      "################\n",
      "# Run jobs list \n",
      "################\n",
      "Number of processes to execute: 2\n",
      "Number of processes in parallel: 1\n",
      "Processing queue: started\n",
      "To monitor the execution run: watch -n 1 cat dataset/Googletransform_jobs/queue.log\n"
     ]
    },
    {
     "data": {
      "application/vnd.jupyter.widget-view+json": {
       "model_id": "35f2bfea35f84ee3886ff7aac07352ab",
       "version_major": 2,
       "version_minor": 0
      },
      "text/plain": [
       "  0%|          | 0/2 [00:00<?, ?it/s]"
      ]
     },
     "metadata": {},
     "output_type": "display_data"
    },
    {
     "name": "stderr",
     "output_type": "stream",
     "text": [
      "Process Process-4:\n",
      "Traceback (most recent call last):\n",
      "  File \"/Users/jacobchoe/anaconda3/envs/bgp/lib/python3.11/multiprocessing/process.py\", line 314, in _bootstrap\n",
      "    self.run()\n",
      "  File \"/Users/jacobchoe/anaconda3/envs/bgp/lib/python3.11/multiprocessing/process.py\", line 108, in run\n",
      "    self._target(*self._args, **self._kwargs)\n",
      "  File \"/Users/jacobchoe/anaconda3/envs/bgp/lib/python3.11/site-packages/BML/transform/dataset_transformation.py\", line 31, in transformSample\n",
      "    transform(transformation, primingFile, dataFile, params=params, outFolder=outputfolder, logFiles=logFiles)\n",
      "  File \"/Users/jacobchoe/anaconda3/envs/bgp/lib/python3.11/site-packages/BML/transform/base_transform.py\", line 243, in transform\n",
      "    transform.execute()\n",
      "  File \"/Users/jacobchoe/anaconda3/envs/bgp/lib/python3.11/site-packages/BML/transform/base_transform.py\", line 172, in execute\n",
      "    self.init()\n",
      "  File \"/Users/jacobchoe/anaconda3/envs/bgp/lib/python3.11/site-packages/BML/transform/base_transform.py\", line 49, in init\n",
      "    utils.ungzipFile(self.dataFile)\n",
      "  File \"/Users/jacobchoe/anaconda3/envs/bgp/lib/python3.11/site-packages/BML/utils/utils.py\", line 138, in ungzipFile\n",
      "    with gzip.open(filegzpath, 'rb') as f_in:\n",
      "         ^^^^^^^^^^^^^^^^^^^^^^^^^^^\n",
      "  File \"/Users/jacobchoe/anaconda3/envs/bgp/lib/python3.11/gzip.py\", line 58, in open\n",
      "    binary_file = GzipFile(filename, gz_mode, compresslevel)\n",
      "                  ^^^^^^^^^^^^^^^^^^^^^^^^^^^^^^^^^^^^^^^^^^\n",
      "  File \"/Users/jacobchoe/anaconda3/envs/bgp/lib/python3.11/gzip.py\", line 174, in __init__\n",
      "    fileobj = self.myfileobj = builtins.open(filename, mode or 'rb')\n",
      "                               ^^^^^^^^^^^^^^^^^^^^^^^^^^^^^^^^^^^^^\n",
      "FileNotFoundError: [Errno 2] No such file or directory: 'dataset/Google/no_anomaly/Google/data/updates.csv.gz'\n"
     ]
    },
    {
     "name": "stdout",
     "output_type": "stream",
     "text": [
      "Processing queue: finish\n",
      "Computation time: 0h 0m 3s\n"
     ]
    }
   ],
   "source": [
    "from BML.transform import DatasetTransformation\n",
    "from BML import utils\n",
    "folder = \"dataset/Google\"\n",
    "\n",
    "# features extraction every minute\n",
    "datTran = DatasetTransformation(folder, \"BML.transform\", \"Features\")\n",
    "\n",
    "datTran.setParams({\n",
    "        \"global\":{\n",
    "            \"Period\": 3\n",
    "        }\n",
    "    })\n",
    "\n",
    "# run the data transformation\n",
    "utils.runJobs(datTran.getJobs(), folder+\"transform_jobs\")"
   ]
  },
  {
   "cell_type": "code",
   "execution_count": 7,
   "id": "4ad21174-00bb-49a7-941f-ad0f231fac7c",
   "metadata": {},
   "outputs": [],
   "source": [
    "import gzip\n",
    "\n",
    "with open('dataset/Google/no_anomaly/Google/priming_data/routes.json', 'rb') as f_in:\n",
    "    with gzip.open('routes.json.gz', 'wb') as f_out:\n",
    "        f_out.writelines(f_in)"
   ]
  },
  {
   "cell_type": "code",
   "execution_count": 9,
   "id": "52d8af37-c3e8-460b-981a-8e792d3fc027",
   "metadata": {},
   "outputs": [
    {
     "name": "stdout",
     "output_type": "stream",
     "text": [
      "[0, 1, 2, 3, 4]\n",
      "[5, 6, 7, 8, 9]\n",
      "[10, 11, 12, 13, 14]\n",
      "[15, 16, 17, 18, 19]\n",
      "[20, 21, 22, 23, 24]\n"
     ]
    }
   ],
   "source": [
    "lst = list(range(25))\n",
    "\n",
    "step = 5\n",
    "\n",
    "for i in range(5):\n",
    "    print(lst[i*step:i*step+step])"
   ]
  },
  {
   "cell_type": "code",
   "execution_count": null,
   "id": "44d24ead-98d2-4d8b-ae31-37a963558967",
   "metadata": {},
   "outputs": [],
   "source": []
  }
 ],
 "metadata": {
  "kernelspec": {
   "display_name": "Python 3 (ipykernel)",
   "language": "python",
   "name": "python3"
  },
  "language_info": {
   "codemirror_mode": {
    "name": "ipython",
    "version": 3
   },
   "file_extension": ".py",
   "mimetype": "text/x-python",
   "name": "python",
   "nbconvert_exporter": "python",
   "pygments_lexer": "ipython3",
   "version": "3.11.10"
  }
 },
 "nbformat": 4,
 "nbformat_minor": 5
}
